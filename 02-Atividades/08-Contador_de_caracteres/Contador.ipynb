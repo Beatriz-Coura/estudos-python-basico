{
 "cells": [
  {
   "cell_type": "markdown",
   "id": "05f0de12",
   "metadata": {},
   "source": [
    "## Contador de Caracteres\n",
    "\n",
    "### **Descrição:**\n",
    "Peça ao usuário uma palavra ou frase e informe quantos caracteres (sem contar espaços) ela possui.\n",
    "\n",
    "**Conceitos:** `len()`, `replace()`, `input()`"
   ]
  },
  {
   "cell_type": "code",
   "execution_count": null,
   "id": "0dcd9c0e",
   "metadata": {},
   "outputs": [],
   "source": [
    "frase = input('Digite uma palavra ou frase:' )\n",
    "\n",
    "frase_sem_espacos = frase.replace(\" \", \"\")\n",
    "\n",
    "quantidade = len(frase_sem_espacos)\n",
    "\n",
    "print(f\"A frase possui {quantidade} caracteres (sem contar os espaços).\")"
   ]
  },
  {
   "cell_type": "code",
   "execution_count": null,
   "id": "bbf0bc2f",
   "metadata": {},
   "outputs": [],
   "source": [
    "letras = 0\n",
    "\n",
    "for caractere in frase:\n",
    "    if caractere.isalpha():  # Função que verifica se é uma letra (A-Z ou a-z)\n",
    "        letras += 1\n",
    "\n",
    "print(f\"A frase contém {letras} letras.\")"
   ]
  },
  {
   "cell_type": "code",
   "execution_count": null,
   "id": "5d980750",
   "metadata": {},
   "outputs": [],
   "source": [
    "vogais = 0\n",
    "consoantes = 0\n",
    "\n",
    "for caractere in frase:\n",
    "    if caractere.isalpha():  # Verifica se é uma letra\n",
    "        if caractere.lower() in 'aeiou':\n",
    "            vogais += 1\n",
    "        else:\n",
    "            consoantes += 1\n",
    "\n",
    "print(f\"Vogais: {vogais}\")\n",
    "print(f\"Consoantes: {consoantes}\")"
   ]
  },
  {
   "cell_type": "code",
   "execution_count": null,
   "id": "e68cef9d",
   "metadata": {},
   "outputs": [],
   "source": [
    "maiusculas = 0\n",
    "minusculas = 0\n",
    "\n",
    "for caractere in frase:\n",
    "    if caractere.isalpha():\n",
    "        if caractere.isupper():\n",
    "            maiusculas += 1\n",
    "        else:\n",
    "            minusculas += 1\n",
    "\n",
    "print(f\"Letras maiúsculas: {maiusculas}\")\n",
    "print(f\"Letras minúsculas: {minusculas}\")\n"
   ]
  }
 ],
 "metadata": {
  "language_info": {
   "name": "python"
  }
 },
 "nbformat": 4,
 "nbformat_minor": 5
}
