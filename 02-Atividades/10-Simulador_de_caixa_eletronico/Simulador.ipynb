{
 "cells": [
  {
   "cell_type": "markdown",
   "id": "bb203bd3",
   "metadata": {},
   "source": [
    "## **Simulador de Caixa Eletrônico**\n",
    "\n",
    "### **Descrição:** \n",
    "\n",
    "Peça um valor inteiro e exiba quantas notas de 100, 50, 20, 10, 5 e 2 serão necessárias para compor o valor.\n",
    "\n",
    "**Conceitos:** `divisão inteira`, `resto`, `matemática`"
   ]
  },
  {
   "cell_type": "code",
   "execution_count": null,
   "id": "1ee56494",
   "metadata": {},
   "outputs": [],
   "source": [
    "valor = int(input('Digite um valor: '))\n",
    "\n",
    "# Notas disponíveis\n",
    "notas = [100, 50, 20, 10, 5, 2]\n",
    "\n",
    "for nota in notas:\n",
    "    quantidade = valor // nota\n",
    "    valor = valor % nota\n",
    "    if quantidade > 0:\n",
    "        print(f'{quantidade} nota(s) de R${nota}')"
   ]
  }
 ],
 "metadata": {
  "language_info": {
   "name": "python"
  }
 },
 "nbformat": 4,
 "nbformat_minor": 5
}
