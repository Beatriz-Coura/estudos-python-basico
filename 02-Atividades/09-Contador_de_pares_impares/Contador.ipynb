{
 "cells": [
  {
   "cell_type": "markdown",
   "id": "d114434f",
   "metadata": {},
   "source": [
    "## **Contador de Números Pares e Ímpares**\n",
    "\n",
    "### **Descrição:**\n",
    "Peça 10 números ao usuário e informe quantos são pares e quantos são ímpares.\n",
    "\n",
    "**Conceitos:** `laços`, `condições`, `%`"
   ]
  },
  {
   "cell_type": "code",
   "execution_count": null,
   "id": "0986e372",
   "metadata": {},
   "outputs": [],
   "source": [
    "cont_Par = 0\n",
    "cont_Impar = 0\n",
    "\n",
    "for i in range(10):\n",
    "    num = int(input('Digite um número: '))\n",
    "    \n",
    "    if num % 2 == 0:\n",
    "        cont_Par += 1\n",
    "    else:\n",
    "        cont_Impar += 1\n",
    "\n",
    "print(f'Quantidade de pares: {cont_Par}')\n",
    "print(f'Quantidade de ímpares: {cont_Impar}')"
   ]
  }
 ],
 "metadata": {
  "kernelspec": {
   "display_name": "base",
   "language": "python",
   "name": "python3"
  },
  "language_info": {
   "codemirror_mode": {
    "name": "ipython",
    "version": 3
   },
   "file_extension": ".py",
   "mimetype": "text/x-python",
   "name": "python",
   "nbconvert_exporter": "python",
   "pygments_lexer": "ipython3",
   "version": "3.9.13"
  }
 },
 "nbformat": 4,
 "nbformat_minor": 5
}
