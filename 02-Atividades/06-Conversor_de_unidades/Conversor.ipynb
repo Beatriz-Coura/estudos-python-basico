{
 "cells": [
  {
   "cell_type": "markdown",
   "id": "35ded46b",
   "metadata": {},
   "source": [
    "## 6. Conversor de Unidades\n",
    "\n",
    "### **Descrição:**\n",
    "Crie um programa em Python que funcione como um conversor de unidades. O usuário deverá escolher o tipo de conversão (por exemplo: temperatura, distância ou peso) e informar o valor a ser convertido. O programa deve realizar a conversão e exibir o resultado.\n",
    "\n",
    "**Requisitos mínimos:**\n",
    "\n",
    "- Oferecer ao usuário um menu com tipos de conversão, como:\n",
    "    - Celsius para Fahrenheit\n",
    "    - Quilômetros para Milhas\n",
    "    - Quilogramas para Libras\n",
    "- Aceitar a entrada do valor a ser convertido\n",
    "- Exibir o resultado da conversão com 2 casas decimais\n",
    "- Permitir múltiplas conversões até o usuário escolher sair"
   ]
  },
  {
   "cell_type": "code",
   "execution_count": null,
   "id": "8a235141",
   "metadata": {},
   "outputs": [],
   "source": [
    "print(\"\\nCONVERSOR DE UNIDADES\")\n",
    "print(\"1 - Celsius para Fahrenheit\")\n",
    "print(\"2 - Fahrenheit para Celsius\")\n",
    "print(\"3 - Km para Milhas\")\n",
    "print(\"4 - Milhas para Km\")\n",
    "print(\"5 - Kg para Libras\")\n",
    "print(\"6 - Libras para Kg\")\n",
    "print(\"7 - Sair\")\n",
    "\n",
    "opcao = 0\n",
    "\n",
    "while opcao !=7:\n",
    "    opcao = int(input('Qual tipo de conversão você deseja realizar? '))\n",
    "    if opcao == 1:\n",
    "        c = float(input(\"Digite a temperatura em Celsius: \"))\n",
    "        f = (c * 9/5) + 32\n",
    "        print(f\"{c:.2f}°C = {f:.2f}°F\")\n",
    "    elif opcao == 2:\n",
    "        f = float(input(\"Digite a temperatura em Fahrenheit: \"))\n",
    "        c = (f - 32) * 5/9\n",
    "        print(f\"{f:.2f}°F = {c:.2f}°C\")\n",
    "    elif opcao == 3:\n",
    "        km = float(input(\"Digite a distância em Km: \"))\n",
    "        milhas = km * 0.621371\n",
    "        print(f\"{km:.2f} Km = {milhas:.2f} Milhas\")\n",
    "    elif opcao == 4:\n",
    "        milhas = float(input(\"Digite a distância em Milhas: \"))\n",
    "        km = milhas / 0.621371\n",
    "        print(f\"{milhas:.2f} Milhas = {km:.2f} Km\")\n",
    "    elif opcao == 5:\n",
    "        kg = float(input(\"Digite o peso em Kg: \"))\n",
    "        libras = kg * 2.20462\n",
    "        print(f\"{kg:.2f} Kg = {libras:.2f} Libras\")\n",
    "    elif opcao == 6:\n",
    "        libras = float(input(\"Digite o peso em Libras: \"))\n",
    "        kg = libras / 2.20462\n",
    "        print(f\"{libras:.2f} Libras = {kg:.2f} Kg\")\n",
    "    if opcao == 7:\n",
    "        print(\"Encerrando o conversor. Até logo!\")\n",
    "    else:\n",
    "        print(\"Opção inválida. Tente novamente.\")\n",
    "\n"
   ]
  }
 ],
 "metadata": {
  "language_info": {
   "name": "python"
  }
 },
 "nbformat": 4,
 "nbformat_minor": 5
}
