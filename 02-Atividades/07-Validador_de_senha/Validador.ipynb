{
 "cells": [
  {
   "cell_type": "markdown",
   "id": "0adbb0e7",
   "metadata": {},
   "source": [
    "## Validador de Senhas\n",
    "\n",
    "### **Descrição:**\n",
    "Desenvolva um programa em Python que verifica se uma senha criada pelo usuário é segura, de acordo com critérios definidos. O programa deve receber uma senha e informar ao usuário se ela é válida ou não, explicando o motivo caso não seja.\n",
    "\n",
    "**Requisitos mínimos:**\n",
    "- A senha deve ter pelo menos 8 caracteres\n",
    "- Deve conter pelo menos uma letra maiúscula\n",
    "- Deve conter pelo menos uma letra minúscula\n",
    "- Deve conter pelo menos um número\n",
    "- Deve conter pelo menos um caractere especial (como `@`, `#`, `$`, etc)\n",
    "- Exibir mensagem de aprovação ou apontar quais critérios não foram atendidos"
   ]
  },
  {
   "cell_type": "code",
   "execution_count": null,
   "id": "b92385a4",
   "metadata": {},
   "outputs": [],
   "source": [
    "senha = input(\"Digite sua senha: \")\n",
    "\n",
    "if len(senha) < 8:\n",
    "    print(\"Senha inválida: deve ter pelo menos 8 caracteres.\")\n",
    "elif not any(c.isupper() for c in senha):\n",
    "    print(\"Senha inválida: deve conter pelo menos uma letra maiúscula.\")\n",
    "elif not any(c.islower() for c in senha):\n",
    "    print(\"Senha inválida: deve conter pelo menos uma letra minúscula.\")\n",
    "elif not any(c.isdigit() for c in senha):\n",
    "    print(\"Senha inválida: deve conter pelo menos um número.\")\n",
    "elif not any(c in \"!@#$%&*()-_=+[]{};:,.<>?/\\\\|'\" for c in senha):\n",
    "    print(\"Senha inválida: deve conter pelo menos um caractere especial.\")\n",
    "else:\n",
    "    print(\"Senha válida!\")"
   ]
  }
 ],
 "metadata": {
  "language_info": {
   "name": "python"
  }
 },
 "nbformat": 4,
 "nbformat_minor": 5
}
