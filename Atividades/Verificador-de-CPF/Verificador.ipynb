{
 "cells": [
  {
   "cell_type": "markdown",
   "id": "830d4f89",
   "metadata": {},
   "source": [
    "## Validador de CPF (simplificado)\n",
    "\n",
    "### **Descrição:**\n",
    "Peça um CPF no formato `xxx.xxx.xxx-xx` e verifique se a quantidade de caracteres e pontuação está correta. Não é necessário validar os dígitos.\n",
    "\n",
    "**Conceitos envolvidos:** `slicing`, `len()`, `strings`, `condições`"
   ]
  },
  {
   "cell_type": "code",
   "execution_count": null,
   "id": "d099ab93",
   "metadata": {},
   "outputs": [],
   "source": [
    "cpf = input('Digite seu CPF ex: xxx.xxx.xxx-xx ')\n",
    "\n",
    "if(len(cpf) != 13 or cpf[3] != '.' or cpf[7] != '.' or cpf[11] != '-'):\n",
    "    print('CPF Inválido!')\n",
    "else:\n",
    "    print('CPF Válido')"
   ]
  }
 ],
 "metadata": {
  "language_info": {
   "name": "python"
  }
 },
 "nbformat": 4,
 "nbformat_minor": 5
}
