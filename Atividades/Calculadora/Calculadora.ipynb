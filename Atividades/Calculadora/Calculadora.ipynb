{
 "cells": [
  {
   "cell_type": "markdown",
   "id": "953c91fa",
   "metadata": {},
   "source": [
    "## Calculadora Simples\n",
    "\n",
    "### **Descrição:**\n",
    "Crie um programa que solicite dois números e a operação matemática desejada (adição, subtração, multiplicação ou divisão) e exiba o resultado da operação.\n",
    "\n",
    "**Conceitos envolvidos:** `input()`, `if/elif`, operadores aritméticos"
   ]
  },
  {
   "cell_type": "code",
   "execution_count": null,
   "id": "13e209ab",
   "metadata": {},
   "outputs": [],
   "source": [
    "a = int(input('Digite o primeiro número: '))\n",
    "b = int(input('Digite o segundo número: '))\n",
    "\n",
    "print('Operações')\n",
    "print('Adição')\n",
    "print('Subtração')\n",
    "print('Divisão')\n",
    "print('Multiplicação')\n",
    "op = input('Escolha uma operação: ')\n",
    "\n",
    "if op == 'Adição':\n",
    "    print(a+b)\n",
    "elif op == 'Subtração':\n",
    "    print(a-b)\n",
    "elif op == 'Divisão':\n",
    "    print(a/b)\n",
    "elif op == 'Multiplicação':\n",
    "    print(a*b)"
   ]
  }
 ],
 "metadata": {
  "kernelspec": {
   "display_name": "base",
   "language": "python",
   "name": "python3"
  },
  "language_info": {
   "codemirror_mode": {
    "name": "ipython",
    "version": 3
   },
   "file_extension": ".py",
   "mimetype": "text/x-python",
   "name": "python",
   "nbconvert_exporter": "python",
   "pygments_lexer": "ipython3",
   "version": "3.9.13"
  }
 },
 "nbformat": 4,
 "nbformat_minor": 5
}
