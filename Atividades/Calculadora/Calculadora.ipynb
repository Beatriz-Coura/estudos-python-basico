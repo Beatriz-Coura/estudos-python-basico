{
 "cells": [
  {
   "cell_type": "code",
   "execution_count": 17,
   "id": "2d24c1b6",
   "metadata": {},
   "outputs": [],
   "source": [
    "import os\n",
    "ARQUIVO_TAREFAS = \"tarefas.txt\"\n"
   ]
  },
  {
   "cell_type": "code",
   "execution_count": 18,
   "id": "92a3edff",
   "metadata": {},
   "outputs": [],
   "source": [
    "\n",
    "if os.path.exists(ARQUIVO_TAREFAS):\n",
    "    with open(ARQUIVO_TAREFAS, \"r\", encoding=\"utf-8\") as file:\n",
    "        tarefas = [linha.strip() for linha in file.readlines()]\n",
    "else:\n",
    "    tarefas = []\n",
    "    \n",
    "def salvar_tarefas(tarefas):\n",
    "    with open(ARQUIVO_TAREFAS, \"w\", encoding=\"utf-8\") as file:\n",
    "        file.writelines(tarefa + \"\\n\" for tarefa in tarefas)\n",
    "\n",
    "def adicionar_tarefa():\n",
    "    tarefa = input(\"Digite a nova tarefa: \")\n",
    "    tarefas.append(f\"[ ] {tarefa}\")\n",
    "    salvar_tarefas(tarefas)\n",
    "    print(\"Tarefa adicionada com sucesso!\")\n",
    "\n",
    "def listar_tarefas(tarefas):\n",
    "    if not tarefas:\n",
    "        print(\"Nenhuma tarefa encontrada.\")\n",
    "    else:\n",
    "        print(\"\\n Lista de Tarefas:\")\n",
    "        for i, tarefa in enumerate(tarefas):\n",
    "            print(f\"{i + 1}. {tarefa}\")\n",
    "    print()\n",
    "\n",
    "def concluir_tarefa(tarefas):\n",
    "    listar_tarefas(tarefas)\n",
    "    try:\n",
    "        num = int(input(\"Digite o número da tarefa concluída: \")) - 1\n",
    "        if 0 <= num < len(tarefas):\n",
    "            tarefas[num] = tarefas[num].replace(\"[ ]\", \"[✔]\")\n",
    "            salvar_tarefas(tarefas)\n",
    "            print(\" Tarefa marcada como concluída!\")\n",
    "        else:\n",
    "            print(\"Número inválido!\")\n",
    "    except ValueError:\n",
    "        print(\"Entrada inválida. Digite um número.\")\n",
    "\n",
    "def remover_tarefa(tarefas):\n",
    "    listar_tarefas(tarefas)\n",
    "    try:\n",
    "        num = int(input(\"Digite o número da tarefa a ser removida: \")) - 1\n",
    "        if 0 <= num < len(tarefas):\n",
    "            tarefas.pop(num)\n",
    "            salvar_tarefas(tarefas)\n",
    "            print(\" Tarefa removida com sucesso!\")\n",
    "        else:\n",
    "            print(\"Número inválido!\")\n",
    "    except ValueError:\n",
    "        print(\"Entrada inválida. Digite um número.\")"
   ]
  },
  {
   "cell_type": "code",
   "execution_count": null,
   "id": "5762dfae",
   "metadata": {},
   "outputs": [
    {
     "name": "stdout",
     "output_type": "stream",
     "text": [
      "\n",
      " GERENCIADOR DE TAREFAS\n",
      "1 - Adicionar tarefa\n",
      "2 - Listar tarefas\n",
      "3 - Concluir tarefa\n",
      "4 - Remover tarefa\n",
      "5 - Sair\n",
      "Escolha uma opção: 1\n",
      "Digite a nova tarefa: kklkl\n",
      "Tarefa adicionada com sucesso!\n",
      "\n",
      " GERENCIADOR DE TAREFAS\n",
      "1 - Adicionar tarefa\n",
      "2 - Listar tarefas\n",
      "3 - Concluir tarefa\n",
      "4 - Remover tarefa\n",
      "5 - Sair\n"
     ]
    }
   ],
   "source": [
    "while True:\n",
    "        print(\"\\n GERENCIADOR DE TAREFAS\")\n",
    "        print(\"1 - Adicionar tarefa\")\n",
    "        print(\"2 - Listar tarefas\")\n",
    "        print(\"3 - Concluir tarefa\")\n",
    "        print(\"4 - Remover tarefa\")\n",
    "        print(\"5 - Sair\")\n",
    "\n",
    "        op = input(\"Escolha uma opção: \")\n",
    "\n",
    "        if op == \"1\":\n",
    "            adicionar_tarefa()\n",
    "        elif op == \"2\":\n",
    "            listar_tarefas(tarefas)\n",
    "        elif op == \"3\":\n",
    "            concluir_tarefa(tarefas)\n",
    "        elif op == \"4\":\n",
    "            remover_tarefa(tarefas)\n",
    "        elif op == \"5\":\n",
    "            print(\"Saindo... Até logo!\")\n",
    "            break\n",
    "        else:\n",
    "            print(\"Opção inválida! Tente novamente.\")\n"
   ]
  },
  {
   "cell_type": "code",
   "execution_count": null,
   "id": "13e209ab",
   "metadata": {},
   "outputs": [],
   "source": []
  }
 ],
 "metadata": {
  "kernelspec": {
   "display_name": "Python 3 (ipykernel)",
   "language": "python",
   "name": "python3"
  },
  "language_info": {
   "codemirror_mode": {
    "name": "ipython",
    "version": 3
   },
   "file_extension": ".py",
   "mimetype": "text/x-python",
   "name": "python",
   "nbconvert_exporter": "python",
   "pygments_lexer": "ipython3",
   "version": "3.9.13"
  }
 },
 "nbformat": 4,
 "nbformat_minor": 5
}
