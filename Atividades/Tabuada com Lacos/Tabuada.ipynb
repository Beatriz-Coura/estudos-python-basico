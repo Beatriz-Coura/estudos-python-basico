{
 "cells": [
  {
   "cell_type": "markdown",
   "id": "7ff97c42",
   "metadata": {},
   "source": [
    "## Tabuada com Laços\n",
    "\n",
    "### **Descrição:** \n",
    "Solicite um número ao usuário e exiba a tabuada desse número de 1 a 10.\n",
    "\n",
    "**Conceitos envolvidos:** `for`, `print`, `format`"
   ]
  },
  {
   "cell_type": "code",
   "execution_count": null,
   "id": "d66a11b7",
   "metadata": {},
   "outputs": [],
   "source": [
    "num = int(input('Digite um número'))\n",
    "\n",
    "for i in range(1, 11):\n",
    "    print(f'{i} x {num} = {num*i}')"
   ]
  }
 ],
 "metadata": {
  "language_info": {
   "name": "python"
  }
 },
 "nbformat": 4,
 "nbformat_minor": 5
}
