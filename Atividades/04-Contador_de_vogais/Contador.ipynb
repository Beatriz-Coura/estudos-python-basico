{
 "cells": [
  {
   "cell_type": "markdown",
   "id": "e121e62d",
   "metadata": {},
   "source": [
    "## Contador de Vogais em uma Frase\n",
    "\n",
    "### **Descrição:**\n",
    "Peça uma frase ao usuário e mostre quantas vogais existem nela.\n",
    "\n",
    "**Conceitos envolvidos:** `laços`, `listas`, `strings`"
   ]
  },
  {
   "cell_type": "code",
   "execution_count": null,
   "id": "569a71a6",
   "metadata": {},
   "outputs": [],
   "source": [
    "frase = input('Digite uma frase: ')\n",
    "vogais = 0\n",
    "\n",
    "for letra in frase.lower():\n",
    "    if letra in 'aeiou':\n",
    "        vogais += 1\n",
    "\n",
    "print(f\"Número de vogais: {vogais}\")"
   ]
  }
 ],
 "metadata": {
  "language_info": {
   "name": "python"
  }
 },
 "nbformat": 4,
 "nbformat_minor": 5
}
